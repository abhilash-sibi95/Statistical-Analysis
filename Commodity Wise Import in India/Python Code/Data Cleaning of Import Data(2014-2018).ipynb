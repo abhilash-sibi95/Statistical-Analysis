{
 "cells": [
  {
   "cell_type": "code",
   "execution_count": 1,
   "metadata": {},
   "outputs": [
    {
     "data": {
      "text/plain": [
       "'C:\\\\Users\\\\abhil'"
      ]
     },
     "execution_count": 1,
     "metadata": {},
     "output_type": "execute_result"
    }
   ],
   "source": [
    "import os\n",
    "os.getcwd()"
   ]
  },
  {
   "cell_type": "code",
   "execution_count": 2,
   "metadata": {},
   "outputs": [],
   "source": [
    "os.chdir(\"D:\\Practice Datasets\\Import- Data\")"
   ]
  },
  {
   "cell_type": "code",
   "execution_count": 3,
   "metadata": {},
   "outputs": [],
   "source": [
    "import numpy as np\n",
    "import pandas as pd"
   ]
  },
  {
   "cell_type": "code",
   "execution_count": 4,
   "metadata": {},
   "outputs": [],
   "source": [
    "# Importing the Import data for 2014 -2 015\n",
    "import_14_15 = pd.read_csv(\"PC-import-final-2014-2015.csv\")"
   ]
  },
  {
   "cell_type": "code",
   "execution_count": 5,
   "metadata": {},
   "outputs": [
    {
     "data": {
      "text/html": [
       "<div>\n",
       "<style scoped>\n",
       "    .dataframe tbody tr th:only-of-type {\n",
       "        vertical-align: middle;\n",
       "    }\n",
       "\n",
       "    .dataframe tbody tr th {\n",
       "        vertical-align: top;\n",
       "    }\n",
       "\n",
       "    .dataframe thead th {\n",
       "        text-align: right;\n",
       "    }\n",
       "</style>\n",
       "<table border=\"1\" class=\"dataframe\">\n",
       "  <thead>\n",
       "    <tr style=\"text-align: right;\">\n",
       "      <th></th>\n",
       "      <th>PC_DESC</th>\n",
       "      <th>UNIT OF QTY</th>\n",
       "      <th>COUNTRY</th>\n",
       "      <th>QTY</th>\n",
       "      <th>VAL (MILL US $)</th>\n",
       "    </tr>\n",
       "  </thead>\n",
       "  <tbody>\n",
       "    <tr>\n",
       "      <th>0</th>\n",
       "      <td>OTHER COMMODITIES</td>\n",
       "      <td>NaN</td>\n",
       "      <td>UNSPECIFIED</td>\n",
       "      <td>NaN</td>\n",
       "      <td>6925.755648</td>\n",
       "    </tr>\n",
       "    <tr>\n",
       "      <th>1</th>\n",
       "      <td>OTHER COMMODITIES</td>\n",
       "      <td>NaN</td>\n",
       "      <td>KENYA</td>\n",
       "      <td>NaN</td>\n",
       "      <td>4.977579</td>\n",
       "    </tr>\n",
       "    <tr>\n",
       "      <th>2</th>\n",
       "      <td>OTHER COMMODITIES</td>\n",
       "      <td>NaN</td>\n",
       "      <td>TANZANIA REP</td>\n",
       "      <td>NaN</td>\n",
       "      <td>3.859614</td>\n",
       "    </tr>\n",
       "    <tr>\n",
       "      <th>3</th>\n",
       "      <td>OTHER COMMODITIES</td>\n",
       "      <td>NaN</td>\n",
       "      <td>UGANDA</td>\n",
       "      <td>NaN</td>\n",
       "      <td>0.006412</td>\n",
       "    </tr>\n",
       "    <tr>\n",
       "      <th>4</th>\n",
       "      <td>OTHER COMMODITIES</td>\n",
       "      <td>NaN</td>\n",
       "      <td>BENIN</td>\n",
       "      <td>NaN</td>\n",
       "      <td>1.030157</td>\n",
       "    </tr>\n",
       "    <tr>\n",
       "      <th>5</th>\n",
       "      <td>OTHER COMMODITIES</td>\n",
       "      <td>NaN</td>\n",
       "      <td>CAMEROON</td>\n",
       "      <td>NaN</td>\n",
       "      <td>3.337303</td>\n",
       "    </tr>\n",
       "    <tr>\n",
       "      <th>6</th>\n",
       "      <td>OTHER COMMODITIES</td>\n",
       "      <td>NaN</td>\n",
       "      <td>C AFRI REP</td>\n",
       "      <td>NaN</td>\n",
       "      <td>0.000002</td>\n",
       "    </tr>\n",
       "    <tr>\n",
       "      <th>7</th>\n",
       "      <td>OTHER COMMODITIES</td>\n",
       "      <td>NaN</td>\n",
       "      <td>CHAD</td>\n",
       "      <td>NaN</td>\n",
       "      <td>2.059361</td>\n",
       "    </tr>\n",
       "    <tr>\n",
       "      <th>8</th>\n",
       "      <td>OTHER COMMODITIES</td>\n",
       "      <td>NaN</td>\n",
       "      <td>CONGO P REP</td>\n",
       "      <td>NaN</td>\n",
       "      <td>2.304299</td>\n",
       "    </tr>\n",
       "    <tr>\n",
       "      <th>9</th>\n",
       "      <td>OTHER COMMODITIES</td>\n",
       "      <td>NaN</td>\n",
       "      <td>GABON</td>\n",
       "      <td>NaN</td>\n",
       "      <td>0.272850</td>\n",
       "    </tr>\n",
       "  </tbody>\n",
       "</table>\n",
       "</div>"
      ],
      "text/plain": [
       "             PC_DESC UNIT OF QTY       COUNTRY  QTY  VAL (MILL US $)\n",
       "0  OTHER COMMODITIES         NaN   UNSPECIFIED  NaN      6925.755648\n",
       "1  OTHER COMMODITIES         NaN         KENYA  NaN         4.977579\n",
       "2  OTHER COMMODITIES         NaN  TANZANIA REP  NaN         3.859614\n",
       "3  OTHER COMMODITIES         NaN        UGANDA  NaN         0.006412\n",
       "4  OTHER COMMODITIES         NaN         BENIN  NaN         1.030157\n",
       "5  OTHER COMMODITIES         NaN      CAMEROON  NaN         3.337303\n",
       "6  OTHER COMMODITIES         NaN    C AFRI REP  NaN         0.000002\n",
       "7  OTHER COMMODITIES         NaN          CHAD  NaN         2.059361\n",
       "8  OTHER COMMODITIES         NaN   CONGO P REP  NaN         2.304299\n",
       "9  OTHER COMMODITIES         NaN         GABON  NaN         0.272850"
      ]
     },
     "execution_count": 5,
     "metadata": {},
     "output_type": "execute_result"
    }
   ],
   "source": [
    "# Checking the first 10 rows of the data(2014-2015).\n",
    "import_14_15.head(10)"
   ]
  },
  {
   "cell_type": "code",
   "execution_count": 7,
   "metadata": {},
   "outputs": [],
   "source": [
    "# Importing the remaining of the data.\n",
    "import_15_16 = pd.read_csv(\"PC-import-final-2015-2016.csv\")\n",
    "import_16_17 = pd.read_csv(\"PC-import-final-2016-2017.csv\")\n",
    "import_17_18 = pd.read_csv(\"Import201718.csv\")"
   ]
  },
  {
   "cell_type": "code",
   "execution_count": 21,
   "metadata": {},
   "outputs": [
    {
     "data": {
      "text/html": [
       "<div>\n",
       "<style scoped>\n",
       "    .dataframe tbody tr th:only-of-type {\n",
       "        vertical-align: middle;\n",
       "    }\n",
       "\n",
       "    .dataframe tbody tr th {\n",
       "        vertical-align: top;\n",
       "    }\n",
       "\n",
       "    .dataframe thead th {\n",
       "        text-align: right;\n",
       "    }\n",
       "</style>\n",
       "<table border=\"1\" class=\"dataframe\">\n",
       "  <thead>\n",
       "    <tr style=\"text-align: right;\">\n",
       "      <th></th>\n",
       "      <th>PC_DESCRIPTION</th>\n",
       "      <th>UNIT</th>\n",
       "      <th>CTY_DESC</th>\n",
       "      <th>Qty</th>\n",
       "      <th>VAL(USD Million)</th>\n",
       "    </tr>\n",
       "  </thead>\n",
       "  <tbody>\n",
       "    <tr>\n",
       "      <th>0</th>\n",
       "      <td>OTHER COMMODITIES</td>\n",
       "      <td>NaN</td>\n",
       "      <td>UNSPECIFIED</td>\n",
       "      <td>NaN</td>\n",
       "      <td>7349.906819</td>\n",
       "    </tr>\n",
       "    <tr>\n",
       "      <th>1</th>\n",
       "      <td>OTHER COMMODITIES</td>\n",
       "      <td>NaN</td>\n",
       "      <td>KENYA</td>\n",
       "      <td>NaN</td>\n",
       "      <td>2.375354</td>\n",
       "    </tr>\n",
       "    <tr>\n",
       "      <th>2</th>\n",
       "      <td>OTHER COMMODITIES</td>\n",
       "      <td>NaN</td>\n",
       "      <td>TANZANIA REP</td>\n",
       "      <td>NaN</td>\n",
       "      <td>4.788650</td>\n",
       "    </tr>\n",
       "    <tr>\n",
       "      <th>3</th>\n",
       "      <td>OTHER COMMODITIES</td>\n",
       "      <td>NaN</td>\n",
       "      <td>UGANDA</td>\n",
       "      <td>NaN</td>\n",
       "      <td>0.048373</td>\n",
       "    </tr>\n",
       "    <tr>\n",
       "      <th>4</th>\n",
       "      <td>OTHER COMMODITIES</td>\n",
       "      <td>NaN</td>\n",
       "      <td>BENIN</td>\n",
       "      <td>NaN</td>\n",
       "      <td>3.358105</td>\n",
       "    </tr>\n",
       "    <tr>\n",
       "      <th>5</th>\n",
       "      <td>OTHER COMMODITIES</td>\n",
       "      <td>NaN</td>\n",
       "      <td>BURKINA FASO</td>\n",
       "      <td>NaN</td>\n",
       "      <td>0.000057</td>\n",
       "    </tr>\n",
       "    <tr>\n",
       "      <th>6</th>\n",
       "      <td>OTHER COMMODITIES</td>\n",
       "      <td>NaN</td>\n",
       "      <td>CAMEROON</td>\n",
       "      <td>NaN</td>\n",
       "      <td>2.609098</td>\n",
       "    </tr>\n",
       "    <tr>\n",
       "      <th>7</th>\n",
       "      <td>OTHER COMMODITIES</td>\n",
       "      <td>NaN</td>\n",
       "      <td>C AFRI REP</td>\n",
       "      <td>NaN</td>\n",
       "      <td>0.000117</td>\n",
       "    </tr>\n",
       "    <tr>\n",
       "      <th>8</th>\n",
       "      <td>OTHER COMMODITIES</td>\n",
       "      <td>NaN</td>\n",
       "      <td>CHAD</td>\n",
       "      <td>NaN</td>\n",
       "      <td>1.420328</td>\n",
       "    </tr>\n",
       "    <tr>\n",
       "      <th>9</th>\n",
       "      <td>OTHER COMMODITIES</td>\n",
       "      <td>NaN</td>\n",
       "      <td>CONGO P REP</td>\n",
       "      <td>NaN</td>\n",
       "      <td>2.776202</td>\n",
       "    </tr>\n",
       "  </tbody>\n",
       "</table>\n",
       "</div>"
      ],
      "text/plain": [
       "      PC_DESCRIPTION UNIT      CTY_DESC  Qty  VAL(USD Million)\n",
       "0  OTHER COMMODITIES  NaN   UNSPECIFIED  NaN       7349.906819\n",
       "1  OTHER COMMODITIES  NaN         KENYA  NaN          2.375354\n",
       "2  OTHER COMMODITIES  NaN  TANZANIA REP  NaN          4.788650\n",
       "3  OTHER COMMODITIES  NaN        UGANDA  NaN          0.048373\n",
       "4  OTHER COMMODITIES  NaN         BENIN  NaN          3.358105\n",
       "5  OTHER COMMODITIES  NaN  BURKINA FASO  NaN          0.000057\n",
       "6  OTHER COMMODITIES  NaN      CAMEROON  NaN          2.609098\n",
       "7  OTHER COMMODITIES  NaN    C AFRI REP  NaN          0.000117\n",
       "8  OTHER COMMODITIES  NaN          CHAD  NaN          1.420328\n",
       "9  OTHER COMMODITIES  NaN   CONGO P REP  NaN          2.776202"
      ]
     },
     "execution_count": 21,
     "metadata": {},
     "output_type": "execute_result"
    }
   ],
   "source": [
    "# Checking the first 10 rows of the data(2015-2016).\n",
    "import_15_16.head(10)"
   ]
  },
  {
   "cell_type": "code",
   "execution_count": 29,
   "metadata": {},
   "outputs": [
    {
     "data": {
      "text/html": [
       "<div>\n",
       "<style scoped>\n",
       "    .dataframe tbody tr th:only-of-type {\n",
       "        vertical-align: middle;\n",
       "    }\n",
       "\n",
       "    .dataframe tbody tr th {\n",
       "        vertical-align: top;\n",
       "    }\n",
       "\n",
       "    .dataframe thead th {\n",
       "        text-align: right;\n",
       "    }\n",
       "</style>\n",
       "<table border=\"1\" class=\"dataframe\">\n",
       "  <thead>\n",
       "    <tr style=\"text-align: right;\">\n",
       "      <th></th>\n",
       "      <th>PC_DESC</th>\n",
       "      <th>UNIT OF QTY</th>\n",
       "      <th>COUNTRY</th>\n",
       "      <th>QTY</th>\n",
       "      <th>VAL (MILL US $)</th>\n",
       "    </tr>\n",
       "  </thead>\n",
       "  <tbody>\n",
       "    <tr>\n",
       "      <th>0</th>\n",
       "      <td>OTHER COMMODITIES</td>\n",
       "      <td>NaN</td>\n",
       "      <td>UNSPECIFIED</td>\n",
       "      <td>NaN</td>\n",
       "      <td>6994.362548</td>\n",
       "    </tr>\n",
       "    <tr>\n",
       "      <th>1</th>\n",
       "      <td>OTHER COMMODITIES</td>\n",
       "      <td>NaN</td>\n",
       "      <td>KENYA</td>\n",
       "      <td>NaN</td>\n",
       "      <td>3.058141</td>\n",
       "    </tr>\n",
       "    <tr>\n",
       "      <th>2</th>\n",
       "      <td>OTHER COMMODITIES</td>\n",
       "      <td>NaN</td>\n",
       "      <td>TANZANIA REP</td>\n",
       "      <td>NaN</td>\n",
       "      <td>7.582766</td>\n",
       "    </tr>\n",
       "    <tr>\n",
       "      <th>3</th>\n",
       "      <td>OTHER COMMODITIES</td>\n",
       "      <td>NaN</td>\n",
       "      <td>UGANDA</td>\n",
       "      <td>NaN</td>\n",
       "      <td>0.000057</td>\n",
       "    </tr>\n",
       "    <tr>\n",
       "      <th>4</th>\n",
       "      <td>OTHER COMMODITIES</td>\n",
       "      <td>NaN</td>\n",
       "      <td>BENIN</td>\n",
       "      <td>NaN</td>\n",
       "      <td>5.537281</td>\n",
       "    </tr>\n",
       "    <tr>\n",
       "      <th>5</th>\n",
       "      <td>OTHER COMMODITIES</td>\n",
       "      <td>NaN</td>\n",
       "      <td>CAMEROON</td>\n",
       "      <td>NaN</td>\n",
       "      <td>2.656753</td>\n",
       "    </tr>\n",
       "    <tr>\n",
       "      <th>6</th>\n",
       "      <td>OTHER COMMODITIES</td>\n",
       "      <td>NaN</td>\n",
       "      <td>C AFRI REP</td>\n",
       "      <td>NaN</td>\n",
       "      <td>0.002264</td>\n",
       "    </tr>\n",
       "    <tr>\n",
       "      <th>7</th>\n",
       "      <td>OTHER COMMODITIES</td>\n",
       "      <td>NaN</td>\n",
       "      <td>CHAD</td>\n",
       "      <td>NaN</td>\n",
       "      <td>2.595296</td>\n",
       "    </tr>\n",
       "    <tr>\n",
       "      <th>8</th>\n",
       "      <td>OTHER COMMODITIES</td>\n",
       "      <td>NaN</td>\n",
       "      <td>CONGO P REP</td>\n",
       "      <td>NaN</td>\n",
       "      <td>1.392387</td>\n",
       "    </tr>\n",
       "    <tr>\n",
       "      <th>9</th>\n",
       "      <td>OTHER COMMODITIES</td>\n",
       "      <td>NaN</td>\n",
       "      <td>GABON</td>\n",
       "      <td>NaN</td>\n",
       "      <td>0.431098</td>\n",
       "    </tr>\n",
       "  </tbody>\n",
       "</table>\n",
       "</div>"
      ],
      "text/plain": [
       "             PC_DESC UNIT OF QTY       COUNTRY  QTY  VAL (MILL US $)\n",
       "0  OTHER COMMODITIES         NaN   UNSPECIFIED  NaN      6994.362548\n",
       "1  OTHER COMMODITIES         NaN         KENYA  NaN         3.058141\n",
       "2  OTHER COMMODITIES         NaN  TANZANIA REP  NaN         7.582766\n",
       "3  OTHER COMMODITIES         NaN        UGANDA  NaN         0.000057\n",
       "4  OTHER COMMODITIES         NaN         BENIN  NaN         5.537281\n",
       "5  OTHER COMMODITIES         NaN      CAMEROON  NaN         2.656753\n",
       "6  OTHER COMMODITIES         NaN    C AFRI REP  NaN         0.002264\n",
       "7  OTHER COMMODITIES         NaN          CHAD  NaN         2.595296\n",
       "8  OTHER COMMODITIES         NaN   CONGO P REP  NaN         1.392387\n",
       "9  OTHER COMMODITIES         NaN         GABON  NaN         0.431098"
      ]
     },
     "execution_count": 29,
     "metadata": {},
     "output_type": "execute_result"
    }
   ],
   "source": [
    "# Checking the first 10 rows of the data(2016-2017).\n",
    "import_16_17.head(10)"
   ]
  },
  {
   "cell_type": "code",
   "execution_count": 10,
   "metadata": {},
   "outputs": [
    {
     "data": {
      "text/html": [
       "<div>\n",
       "<style scoped>\n",
       "    .dataframe tbody tr th:only-of-type {\n",
       "        vertical-align: middle;\n",
       "    }\n",
       "\n",
       "    .dataframe tbody tr th {\n",
       "        vertical-align: top;\n",
       "    }\n",
       "\n",
       "    .dataframe thead th {\n",
       "        text-align: right;\n",
       "    }\n",
       "</style>\n",
       "<table border=\"1\" class=\"dataframe\">\n",
       "  <thead>\n",
       "    <tr style=\"text-align: right;\">\n",
       "      <th></th>\n",
       "      <th>PC_DESC</th>\n",
       "      <th>UNIT OF QTY</th>\n",
       "      <th>COUNTRY</th>\n",
       "      <th>QTY</th>\n",
       "      <th>VAL (MILL US $)</th>\n",
       "    </tr>\n",
       "  </thead>\n",
       "  <tbody>\n",
       "    <tr>\n",
       "      <th>0</th>\n",
       "      <td>TEA</td>\n",
       "      <td>KGS</td>\n",
       "      <td>ARGENTINA</td>\n",
       "      <td>1617240.0</td>\n",
       "      <td>2.58</td>\n",
       "    </tr>\n",
       "    <tr>\n",
       "      <th>1</th>\n",
       "      <td>TEA</td>\n",
       "      <td>KGS</td>\n",
       "      <td>AUSTRALIA</td>\n",
       "      <td>45.0</td>\n",
       "      <td>0.00</td>\n",
       "    </tr>\n",
       "    <tr>\n",
       "      <th>2</th>\n",
       "      <td>TEA</td>\n",
       "      <td>KGS</td>\n",
       "      <td>AUSTRIA</td>\n",
       "      <td>1382.0</td>\n",
       "      <td>0.00</td>\n",
       "    </tr>\n",
       "    <tr>\n",
       "      <th>3</th>\n",
       "      <td>TEA</td>\n",
       "      <td>KGS</td>\n",
       "      <td>BELGIUM</td>\n",
       "      <td>77.0</td>\n",
       "      <td>0.00</td>\n",
       "    </tr>\n",
       "    <tr>\n",
       "      <th>4</th>\n",
       "      <td>TEA</td>\n",
       "      <td>KGS</td>\n",
       "      <td>CANADA</td>\n",
       "      <td>380.0</td>\n",
       "      <td>0.02</td>\n",
       "    </tr>\n",
       "    <tr>\n",
       "      <th>5</th>\n",
       "      <td>TEA</td>\n",
       "      <td>KGS</td>\n",
       "      <td>CHINA P RP</td>\n",
       "      <td>758478.0</td>\n",
       "      <td>2.59</td>\n",
       "    </tr>\n",
       "    <tr>\n",
       "      <th>6</th>\n",
       "      <td>TEA</td>\n",
       "      <td>KGS</td>\n",
       "      <td>COLOMBIA</td>\n",
       "      <td>413.0</td>\n",
       "      <td>0.01</td>\n",
       "    </tr>\n",
       "    <tr>\n",
       "      <th>7</th>\n",
       "      <td>TEA</td>\n",
       "      <td>KGS</td>\n",
       "      <td>CROATIA</td>\n",
       "      <td>200.0</td>\n",
       "      <td>0.00</td>\n",
       "    </tr>\n",
       "    <tr>\n",
       "      <th>8</th>\n",
       "      <td>TEA</td>\n",
       "      <td>KGS</td>\n",
       "      <td>CZECH REPUBLIC</td>\n",
       "      <td>526.0</td>\n",
       "      <td>0.01</td>\n",
       "    </tr>\n",
       "    <tr>\n",
       "      <th>9</th>\n",
       "      <td>TEA</td>\n",
       "      <td>KGS</td>\n",
       "      <td>ETHIOPIA</td>\n",
       "      <td>12.0</td>\n",
       "      <td>0.00</td>\n",
       "    </tr>\n",
       "  </tbody>\n",
       "</table>\n",
       "</div>"
      ],
      "text/plain": [
       "  PC_DESC UNIT OF QTY         COUNTRY        QTY  VAL (MILL US $)\n",
       "0     TEA         KGS       ARGENTINA  1617240.0             2.58\n",
       "1     TEA         KGS       AUSTRALIA       45.0             0.00\n",
       "2     TEA         KGS         AUSTRIA     1382.0             0.00\n",
       "3     TEA         KGS         BELGIUM       77.0             0.00\n",
       "4     TEA         KGS          CANADA      380.0             0.02\n",
       "5     TEA         KGS      CHINA P RP   758478.0             2.59\n",
       "6     TEA         KGS        COLOMBIA      413.0             0.01\n",
       "7     TEA         KGS         CROATIA      200.0             0.00\n",
       "8     TEA         KGS  CZECH REPUBLIC      526.0             0.01\n",
       "9     TEA         KGS        ETHIOPIA       12.0             0.00"
      ]
     },
     "execution_count": 10,
     "metadata": {},
     "output_type": "execute_result"
    }
   ],
   "source": [
    "# Checking the first 10 rows of the data(2017-2018).\n",
    "import_17_18.head(10)"
   ]
  },
  {
   "cell_type": "code",
   "execution_count": 16,
   "metadata": {},
   "outputs": [
    {
     "data": {
      "text/plain": [
       "CHINA P RP         148\n",
       "U S A              147\n",
       "GERMANY            146\n",
       "ITALY              141\n",
       "U K                140\n",
       "FRANCE             137\n",
       "THAILAND           136\n",
       "NETHERLAND         135\n",
       "MALAYSIA           135\n",
       "U ARAB EMTS        133\n",
       "KOREA RP           133\n",
       "JAPAN              132\n",
       "SPAIN              131\n",
       "SINGAPORE          130\n",
       "CANADA             128\n",
       "BELGIUM            126\n",
       "INDONESIA          126\n",
       "TURKEY             125\n",
       "AUSTRALIA          123\n",
       "TAIWAN             119\n",
       "VIETNAM SOC REP    119\n",
       "POLAND             118\n",
       "SWITZERLAND        117\n",
       "SOUTH AFRICA       115\n",
       "HONG KONG          115\n",
       "SRI LANKA DSR      112\n",
       "AUSTRIA            111\n",
       "BRAZIL             109\n",
       "BANGLADESH PR      108\n",
       "DENMARK            107\n",
       "                  ... \n",
       "TURKS C IS           4\n",
       "NEW CALEDONIA        4\n",
       "BERMUDA              4\n",
       "ST LUCIA             4\n",
       "FAROE IS.            3\n",
       "TONGA                2\n",
       "LESOTHO              2\n",
       "PALAU                2\n",
       "TUVALU               2\n",
       "NAURU RP             2\n",
       "ST HELENA            2\n",
       "SOUTH SUDAN          2\n",
       "CHRISTMAS IS.        2\n",
       "TIMOR-LESTE          2\n",
       "ERITREA              2\n",
       "NORFOLK IS           2\n",
       "ANGUILLA             1\n",
       "GRENADA              1\n",
       "ANTIGUA              1\n",
       "FR POLYNESIA         1\n",
       "GUERNSEY             1\n",
       "HEARD MACDONALD      1\n",
       "GREENLAND            1\n",
       "VATICAN CITY         1\n",
       "BURUNDI              1\n",
       "SOLOMON IS           1\n",
       "PITCAIRN IS.         1\n",
       "SAO TOME             1\n",
       "N. MARIANA IS.       1\n",
       "PANAMA C Z           1\n",
       "Name: CTY_DESC, Length: 220, dtype: int64"
      ]
     },
     "execution_count": 16,
     "metadata": {},
     "output_type": "execute_result"
    }
   ],
   "source": [
    "# Checkin the Countries specified in the 'CTY_DESC' column with their respective number of occurences.\n",
    "import_16_17['CTY_DESC'].value_counts()"
   ]
  },
  {
   "cell_type": "code",
   "execution_count": 18,
   "metadata": {},
   "outputs": [],
   "source": [
    "# Removing the redundant column from the dataframe\n",
    "import_14_15.drop(columns= ['PC_CODE','CTY_CODE'],axis = 1, inplace= True)\n",
    "import_15_16.drop(columns= ['PC_CODE','CTY_CODE'],axis = 1, inplace= True)\n",
    "import_16_17.drop(columns= ['PC_CODE','CTY_CODE'],axis = 1, inplace= True)"
   ]
  },
  {
   "cell_type": "code",
   "execution_count": 24,
   "metadata": {},
   "outputs": [
    {
     "data": {
      "text/plain": [
       "Index(['PC_DESC', 'UNIT OF QTY', 'COUNTRY', 'QTY', 'VAL (MILL US $)'], dtype='object')"
      ]
     },
     "execution_count": 24,
     "metadata": {},
     "output_type": "execute_result"
    }
   ],
   "source": [
    "# Checking the columns of 4th dataset and renaming the columns of first 3 datasets with the column names of 4th one. \n",
    "print(import_17_18.columns)\n",
    "import_14_15.columns, import_15_16.columns,import_16_17.columns = import_17_18.columns,import_17_18.columns,import_17_18.columns"
   ]
  },
  {
   "cell_type": "code",
   "execution_count": 35,
   "metadata": {},
   "outputs": [
    {
     "data": {
      "text/html": [
       "<div>\n",
       "<style scoped>\n",
       "    .dataframe tbody tr th:only-of-type {\n",
       "        vertical-align: middle;\n",
       "    }\n",
       "\n",
       "    .dataframe tbody tr th {\n",
       "        vertical-align: top;\n",
       "    }\n",
       "\n",
       "    .dataframe thead th {\n",
       "        text-align: right;\n",
       "    }\n",
       "</style>\n",
       "<table border=\"1\" class=\"dataframe\">\n",
       "  <thead>\n",
       "    <tr style=\"text-align: right;\">\n",
       "      <th></th>\n",
       "      <th>PC_DESC</th>\n",
       "      <th>UNIT OF QTY</th>\n",
       "      <th>COUNTRY</th>\n",
       "    </tr>\n",
       "  </thead>\n",
       "  <tbody>\n",
       "    <tr>\n",
       "      <th>count</th>\n",
       "      <td>9584</td>\n",
       "      <td>4275</td>\n",
       "      <td>9584</td>\n",
       "    </tr>\n",
       "    <tr>\n",
       "      <th>unique</th>\n",
       "      <td>166</td>\n",
       "      <td>5</td>\n",
       "      <td>229</td>\n",
       "    </tr>\n",
       "    <tr>\n",
       "      <th>top</th>\n",
       "      <td>OTHER COMMODITIES</td>\n",
       "      <td>KGS</td>\n",
       "      <td>U S A</td>\n",
       "    </tr>\n",
       "    <tr>\n",
       "      <th>freq</th>\n",
       "      <td>179</td>\n",
       "      <td>2318</td>\n",
       "      <td>152</td>\n",
       "    </tr>\n",
       "  </tbody>\n",
       "</table>\n",
       "</div>"
      ],
      "text/plain": [
       "                  PC_DESC UNIT OF QTY COUNTRY\n",
       "count                9584        4275    9584\n",
       "unique                166           5     229\n",
       "top     OTHER COMMODITIES         KGS   U S A\n",
       "freq                  179        2318     152"
      ]
     },
     "execution_count": 35,
     "metadata": {},
     "output_type": "execute_result"
    }
   ],
   "source": [
    "# Getting useful inferences regarding the Categorical variables of the dataset:\n",
    "import_14_15[['PC_DESC','UNIT OF QTY','COUNTRY']].describe()\n"
   ]
  },
  {
   "cell_type": "code",
   "execution_count": 36,
   "metadata": {},
   "outputs": [
    {
     "data": {
      "text/html": [
       "<div>\n",
       "<style scoped>\n",
       "    .dataframe tbody tr th:only-of-type {\n",
       "        vertical-align: middle;\n",
       "    }\n",
       "\n",
       "    .dataframe tbody tr th {\n",
       "        vertical-align: top;\n",
       "    }\n",
       "\n",
       "    .dataframe thead th {\n",
       "        text-align: right;\n",
       "    }\n",
       "</style>\n",
       "<table border=\"1\" class=\"dataframe\">\n",
       "  <thead>\n",
       "    <tr style=\"text-align: right;\">\n",
       "      <th></th>\n",
       "      <th>QTY</th>\n",
       "      <th>VAL (MILL US $)</th>\n",
       "    </tr>\n",
       "  </thead>\n",
       "  <tbody>\n",
       "    <tr>\n",
       "      <th>count</th>\n",
       "      <td>4.272000e+03</td>\n",
       "      <td>9584.000000</td>\n",
       "    </tr>\n",
       "    <tr>\n",
       "      <th>mean</th>\n",
       "      <td>7.972917e+06</td>\n",
       "      <td>46.748060</td>\n",
       "    </tr>\n",
       "    <tr>\n",
       "      <th>std</th>\n",
       "      <td>7.966424e+07</td>\n",
       "      <td>501.288841</td>\n",
       "    </tr>\n",
       "    <tr>\n",
       "      <th>min</th>\n",
       "      <td>0.000000e+00</td>\n",
       "      <td>0.000001</td>\n",
       "    </tr>\n",
       "    <tr>\n",
       "      <th>25%</th>\n",
       "      <td>1.600000e+02</td>\n",
       "      <td>0.017807</td>\n",
       "    </tr>\n",
       "    <tr>\n",
       "      <th>50%</th>\n",
       "      <td>6.104000e+03</td>\n",
       "      <td>0.300389</td>\n",
       "    </tr>\n",
       "    <tr>\n",
       "      <th>75%</th>\n",
       "      <td>1.553782e+05</td>\n",
       "      <td>4.474170</td>\n",
       "    </tr>\n",
       "    <tr>\n",
       "      <th>max</th>\n",
       "      <td>3.016805e+09</td>\n",
       "      <td>21803.395420</td>\n",
       "    </tr>\n",
       "  </tbody>\n",
       "</table>\n",
       "</div>"
      ],
      "text/plain": [
       "                QTY  VAL (MILL US $)\n",
       "count  4.272000e+03      9584.000000\n",
       "mean   7.972917e+06        46.748060\n",
       "std    7.966424e+07       501.288841\n",
       "min    0.000000e+00         0.000001\n",
       "25%    1.600000e+02         0.017807\n",
       "50%    6.104000e+03         0.300389\n",
       "75%    1.553782e+05         4.474170\n",
       "max    3.016805e+09     21803.395420"
      ]
     },
     "execution_count": 36,
     "metadata": {},
     "output_type": "execute_result"
    }
   ],
   "source": [
    "# Getting useful inferences regarding the Continous Numerical variables of the dataset:\n",
    "import_14_15.describe()"
   ]
  },
  {
   "cell_type": "code",
   "execution_count": 37,
   "metadata": {},
   "outputs": [
    {
     "data": {
      "text/plain": [
       "PC_DESC               0\n",
       "UNIT OF QTY        5309\n",
       "COUNTRY               0\n",
       "QTY                5312\n",
       "VAL (MILL US $)       0\n",
       "dtype: int64"
      ]
     },
     "execution_count": 37,
     "metadata": {},
     "output_type": "execute_result"
    }
   ],
   "source": [
    "# Checking the number of Null values in the import_14_15 dataset:\n",
    "import_14_15.isnull().sum()"
   ]
  },
  {
   "cell_type": "code",
   "execution_count": 38,
   "metadata": {},
   "outputs": [
    {
     "data": {
      "text/plain": [
       "PC_DESC               0\n",
       "UNIT OF QTY        5380\n",
       "COUNTRY               0\n",
       "QTY                5380\n",
       "VAL (MILL US $)       0\n",
       "dtype: int64"
      ]
     },
     "execution_count": 38,
     "metadata": {},
     "output_type": "execute_result"
    }
   ],
   "source": [
    "# Checking the number of Null values in the import_15_16 dataset:\n",
    "import_15_16.isnull().sum()"
   ]
  },
  {
   "cell_type": "code",
   "execution_count": 39,
   "metadata": {},
   "outputs": [
    {
     "data": {
      "text/plain": [
       "PC_DESC               0\n",
       "UNIT OF QTY        5380\n",
       "COUNTRY               0\n",
       "QTY                5380\n",
       "VAL (MILL US $)       0\n",
       "dtype: int64"
      ]
     },
     "execution_count": 39,
     "metadata": {},
     "output_type": "execute_result"
    }
   ],
   "source": [
    "# Checking the number of Null values in the import_16_17 dataset:\n",
    "import_15_16.isnull().sum()"
   ]
  },
  {
   "cell_type": "code",
   "execution_count": 40,
   "metadata": {},
   "outputs": [
    {
     "data": {
      "text/plain": [
       "PC_DESC               0\n",
       "UNIT OF QTY        5367\n",
       "COUNTRY               0\n",
       "QTY                5367\n",
       "VAL (MILL US $)       0\n",
       "dtype: int64"
      ]
     },
     "execution_count": 40,
     "metadata": {},
     "output_type": "execute_result"
    }
   ],
   "source": [
    "# Checking the number of Null values in the import_17_18 dataset:\n",
    "import_16_17.isnull().sum()"
   ]
  },
  {
   "cell_type": "code",
   "execution_count": 62,
   "metadata": {},
   "outputs": [
    {
     "data": {
      "text/plain": [
       "KGS    3991\n",
       "NOS     117\n",
       "SQM      69\n",
       "LTR      58\n",
       "Name: UNIT OF QTY, dtype: int64"
      ]
     },
     "execution_count": 62,
     "metadata": {},
     "output_type": "execute_result"
    }
   ],
   "source": [
    "# Here we see the distict types of 'UNIT OF QTY'\n",
    "import_17_18['UNIT OF QTY'].value_counts()"
   ]
  },
  {
   "cell_type": "code",
   "execution_count": 54,
   "metadata": {},
   "outputs": [],
   "source": [
    "#we have both 'KGS' and 'TON' in the 'UNIT OF QTY' so we converted the TON values to KGS to remove the redundancy in the data\n",
    "#Note: 'TON' cannot be seen in the above data as the above cell was re ran once the changes were made.\n",
    "import_14_15['QTY'] = import_14_15[['UNIT OF QTY','QTY']].apply(lambda x: x[1]* 1000 if x[0] == 'TON' else x[1], axis = 1)\n",
    "import_15_16['QTY'] = import_14_15[['UNIT OF QTY','QTY']].apply(lambda x: x[1]* 1000 if x[0] == 'TON' else x[1], axis = 1)\n",
    "import_16_17['QTY'] = import_14_15[['UNIT OF QTY','QTY']].apply(lambda x: x[1]* 1000 if x[0] == 'TON' else x[1], axis = 1)\n",
    "import_17_18['QTY'] = import_14_15[['UNIT OF QTY','QTY']].apply(lambda x: x[1]* 1000 if x[0] == 'TON' else x[1], axis = 1)\n",
    "\n",
    "import_14_15['UNIT OF QTY'].replace(to_replace = 'TON',value = 'KGS', inplace = True)\n",
    "import_15_16['UNIT OF QTY'].replace(to_replace = 'TON',value = 'KGS', inplace = True)\n",
    "import_16_17['UNIT OF QTY'].replace(to_replace = 'TON',value = 'KGS', inplace = True)\n",
    "import_17_18['UNIT OF QTY'].replace(to_replace = 'TON',value = 'KGS', inplace = True)"
   ]
  },
  {
   "cell_type": "code",
   "execution_count": 65,
   "metadata": {},
   "outputs": [],
   "source": [
    "# Data Set has been cleaned with ignoring the Null Values and we the changes has been saved backed to the original dataset by\n",
    "#the following commands.\n",
    "import_14_15.to_csv('D:\\Practice Datasets\\Import- Data\\PC-import-final-2014-2015.csv', index = False)\n",
    "import_15_16.to_csv('D:\\Practice Datasets\\Import- Data\\PC-import-final-2015-2016.csv', index = False)\n",
    "import_16_17.to_csv('D:\\Practice Datasets\\Import- Data\\PC-import-final-2016-2017.csv', index = False)\n",
    "import_17_18.to_csv('D:\\Practice Datasets\\Import- Data\\Import201718.csv', index = False)"
   ]
  }
 ],
 "metadata": {
  "kernelspec": {
   "display_name": "Python 3",
   "language": "python",
   "name": "python3"
  },
  "language_info": {
   "codemirror_mode": {
    "name": "ipython",
    "version": 3
   },
   "file_extension": ".py",
   "mimetype": "text/x-python",
   "name": "python",
   "nbconvert_exporter": "python",
   "pygments_lexer": "ipython3",
   "version": "3.7.3"
  }
 },
 "nbformat": 4,
 "nbformat_minor": 2
}
